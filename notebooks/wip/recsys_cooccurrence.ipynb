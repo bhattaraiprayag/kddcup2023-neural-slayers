{
 "cells": [
  {
   "cell_type": "code",
   "execution_count": 224,
   "metadata": {},
   "outputs": [],
   "source": [
    "# Import libraries\n",
    "import pandas as pd\n",
    "import numpy as np\n",
    "import matplotlib.pyplot as plt\n",
    "import seaborn as sns\n",
    "import os\n",
    "import re\n",
    "\n",
    "\n",
    "# Ignore warnings\n",
    "import warnings\n",
    "warnings.filterwarnings('ignore')"
   ]
  },
  {
   "cell_type": "code",
   "execution_count": 225,
   "metadata": {},
   "outputs": [],
   "source": [
    "# Import data_processor script\n",
    "from data_processor import load_and_process_data\n",
    "\n",
    "\n",
    "# Get less data; set to None if you want entire datasets\n",
    "user_path = '../../data/'\n",
    "products_slice = 1000\n",
    "sessions_slice = 1000\n",
    "test_slice = 1000\n",
    "task = 'task1'\n",
    "\n",
    "\n",
    "# Load and process data\n",
    "products_train, sessions_train, sessions_test = load_and_process_data(user_path, products_slice, sessions_slice, test_slice, task)"
   ]
  },
  {
   "cell_type": "code",
   "execution_count": 226,
   "metadata": {},
   "outputs": [
    {
     "data": {
      "text/plain": [
       "((1000, 11), (1000, 3), (1000, 2))"
      ]
     },
     "execution_count": 226,
     "metadata": {},
     "output_type": "execute_result"
    }
   ],
   "source": [
    "products_train.shape, sessions_train.shape, sessions_test.shape"
   ]
  },
  {
   "cell_type": "code",
   "execution_count": 227,
   "metadata": {},
   "outputs": [
    {
     "data": {
      "text/html": [
       "<div>\n",
       "<style scoped>\n",
       "    .dataframe tbody tr th:only-of-type {\n",
       "        vertical-align: middle;\n",
       "    }\n",
       "\n",
       "    .dataframe tbody tr th {\n",
       "        vertical-align: top;\n",
       "    }\n",
       "\n",
       "    .dataframe thead th {\n",
       "        text-align: right;\n",
       "    }\n",
       "</style>\n",
       "<table border=\"1\" class=\"dataframe\">\n",
       "  <thead>\n",
       "    <tr style=\"text-align: right;\">\n",
       "      <th></th>\n",
       "      <th>id</th>\n",
       "      <th>locale</th>\n",
       "      <th>title</th>\n",
       "      <th>price</th>\n",
       "      <th>brand</th>\n",
       "      <th>color</th>\n",
       "      <th>size</th>\n",
       "      <th>model</th>\n",
       "      <th>material</th>\n",
       "      <th>author</th>\n",
       "      <th>desc</th>\n",
       "    </tr>\n",
       "  </thead>\n",
       "  <tbody>\n",
       "    <tr>\n",
       "      <th>0</th>\n",
       "      <td>B005ZSSN10</td>\n",
       "      <td>DE</td>\n",
       "      <td>red dragon amberjack 3 steel tip 22 gramm wolf...</td>\n",
       "      <td>30.95</td>\n",
       "      <td>red dragon</td>\n",
       "      <td>unknown</td>\n",
       "      <td>unknown</td>\n",
       "      <td>rdd0089</td>\n",
       "      <td>unknown</td>\n",
       "      <td>unknown</td>\n",
       "      <td>amberjacks steel dartpfeile sind verf gbar in ...</td>\n",
       "    </tr>\n",
       "    <tr>\n",
       "      <th>1</th>\n",
       "      <td>B08PRYN6LD</td>\n",
       "      <td>DE</td>\n",
       "      <td>simply keto lower carb schokodrops ohne zucker...</td>\n",
       "      <td>17.90</td>\n",
       "      <td>simply keto</td>\n",
       "      <td>unknown</td>\n",
       "      <td>750 g 1er pack</td>\n",
       "      <td>unknown</td>\n",
       "      <td>unknown</td>\n",
       "      <td>unknown</td>\n",
       "      <td>nat rliche s sse durch erythrit wir stellen oh...</td>\n",
       "    </tr>\n",
       "  </tbody>\n",
       "</table>\n",
       "</div>"
      ],
      "text/plain": [
       "           id locale                                              title  \\\n",
       "0  B005ZSSN10     DE  red dragon amberjack 3 steel tip 22 gramm wolf...   \n",
       "1  B08PRYN6LD     DE  simply keto lower carb schokodrops ohne zucker...   \n",
       "\n",
       "   price        brand    color            size    model material   author  \\\n",
       "0  30.95   red dragon  unknown         unknown  rdd0089  unknown  unknown   \n",
       "1  17.90  simply keto  unknown  750 g 1er pack  unknown  unknown  unknown   \n",
       "\n",
       "                                                desc  \n",
       "0  amberjacks steel dartpfeile sind verf gbar in ...  \n",
       "1  nat rliche s sse durch erythrit wir stellen oh...  "
      ]
     },
     "execution_count": 227,
     "metadata": {},
     "output_type": "execute_result"
    }
   ],
   "source": [
    "products_train.head(2)"
   ]
  },
  {
   "cell_type": "code",
   "execution_count": 228,
   "metadata": {},
   "outputs": [
    {
     "data": {
      "text/html": [
       "<div>\n",
       "<style scoped>\n",
       "    .dataframe tbody tr th:only-of-type {\n",
       "        vertical-align: middle;\n",
       "    }\n",
       "\n",
       "    .dataframe tbody tr th {\n",
       "        vertical-align: top;\n",
       "    }\n",
       "\n",
       "    .dataframe thead th {\n",
       "        text-align: right;\n",
       "    }\n",
       "</style>\n",
       "<table border=\"1\" class=\"dataframe\">\n",
       "  <thead>\n",
       "    <tr style=\"text-align: right;\">\n",
       "      <th></th>\n",
       "      <th>prev_items</th>\n",
       "      <th>next_item</th>\n",
       "      <th>locale</th>\n",
       "    </tr>\n",
       "  </thead>\n",
       "  <tbody>\n",
       "    <tr>\n",
       "      <th>0</th>\n",
       "      <td>B09W9FND7K,B09JSPLN1M</td>\n",
       "      <td>B09M7GY217</td>\n",
       "      <td>DE</td>\n",
       "    </tr>\n",
       "    <tr>\n",
       "      <th>1</th>\n",
       "      <td>B076THCGSG,B007MO8IME,B08MF65MLV,B001B4TKA0</td>\n",
       "      <td>B001B4THSA</td>\n",
       "      <td>DE</td>\n",
       "    </tr>\n",
       "  </tbody>\n",
       "</table>\n",
       "</div>"
      ],
      "text/plain": [
       "                                    prev_items   next_item locale\n",
       "0                        B09W9FND7K,B09JSPLN1M  B09M7GY217     DE\n",
       "1  B076THCGSG,B007MO8IME,B08MF65MLV,B001B4TKA0  B001B4THSA     DE"
      ]
     },
     "execution_count": 228,
     "metadata": {},
     "output_type": "execute_result"
    }
   ],
   "source": [
    "sessions_train.head(2)"
   ]
  },
  {
   "cell_type": "code",
   "execution_count": 229,
   "metadata": {},
   "outputs": [
    {
     "data": {
      "text/html": [
       "<div>\n",
       "<style scoped>\n",
       "    .dataframe tbody tr th:only-of-type {\n",
       "        vertical-align: middle;\n",
       "    }\n",
       "\n",
       "    .dataframe tbody tr th {\n",
       "        vertical-align: top;\n",
       "    }\n",
       "\n",
       "    .dataframe thead th {\n",
       "        text-align: right;\n",
       "    }\n",
       "</style>\n",
       "<table border=\"1\" class=\"dataframe\">\n",
       "  <thead>\n",
       "    <tr style=\"text-align: right;\">\n",
       "      <th></th>\n",
       "      <th>prev_items</th>\n",
       "      <th>locale</th>\n",
       "    </tr>\n",
       "  </thead>\n",
       "  <tbody>\n",
       "    <tr>\n",
       "      <th>0</th>\n",
       "      <td>B08V12CT4C,B08V1KXBQD,B01BVG1XJS,B09VC5PKN5,B0...</td>\n",
       "      <td>DE</td>\n",
       "    </tr>\n",
       "    <tr>\n",
       "      <th>1</th>\n",
       "      <td>B00R9R5ND6,B00R9RZ9ZS,B00R9RZ9ZS</td>\n",
       "      <td>DE</td>\n",
       "    </tr>\n",
       "  </tbody>\n",
       "</table>\n",
       "</div>"
      ],
      "text/plain": [
       "                                          prev_items locale\n",
       "0  B08V12CT4C,B08V1KXBQD,B01BVG1XJS,B09VC5PKN5,B0...     DE\n",
       "1                   B00R9R5ND6,B00R9RZ9ZS,B00R9RZ9ZS     DE"
      ]
     },
     "execution_count": 229,
     "metadata": {},
     "output_type": "execute_result"
    }
   ],
   "source": [
    "sessions_test.head(2)"
   ]
  },
  {
   "attachments": {},
   "cell_type": "markdown",
   "metadata": {},
   "source": [
    "### Recommendations using Co-Occurrences\n",
    "This recommendation system is based on product co-occurrence matrix. The matrix is created by analyzing the previous items purchased by customers in their sessions. For each session, pairs of products that were purchased together are identified, and a score is assigned to the pair indicating how frequently the products were purchased together. The matrix is created from all of the scores for all of the product pairs.\n",
    "\n",
    "Once the matrix is created, the function recommend_products takes a product ID as input and returns the top N recommendations for that product. The function looks for all pairs in the matrix that contain the given product ID, and then identifies the related product in each pair. The function sorts the related products based on their scores, and returns the top N products as recommendations for the given product ID."
   ]
  },
  {
   "cell_type": "code",
   "execution_count": 222,
   "metadata": {},
   "outputs": [],
   "source": [
    "# Function to create co-occurrence matrix\n",
    "def cooccurrence_matrix(df):\n",
    "    sessions = df['prev_items'].apply(lambda x: x.split(',')).tolist()\n",
    "    cooccurrence = {}\n",
    "\n",
    "    for session in sessions:\n",
    "        for i in range(len(session)):\n",
    "            for j in range(i + 1, len(session)):\n",
    "                pair = tuple(sorted((session[i], session[j])))\n",
    "                if pair in cooccurrence:\n",
    "                    cooccurrence[pair] += 1\n",
    "                else:\n",
    "                    cooccurrence[pair] = 1\n",
    "\n",
    "    cooccurrence_df = pd.DataFrame(list(cooccurrence.items()), columns=['product_pair', 'score'])\n",
    "    return cooccurrence_df\n",
    "\n",
    "\n",
    "# Create co-occurrence matrix\n",
    "train_cooccurrence = cooccurrence_matrix(sessions_train)\n",
    "\n",
    "\n",
    "# Function to recommend products\n",
    "def recommend_products(product_id, cooccurrence_df, top_n=10):\n",
    "    pairs = cooccurrence_df[cooccurrence_df['product_pair'].apply(lambda x: product_id in x)]\n",
    "    pairs['related_product'] = pairs['product_pair'].apply(lambda x: x[0] if x[1] == product_id else x[1])\n",
    "    recommendations = pairs[['related_product', 'score']].sort_values(by='score', ascending=False)\n",
    "    \n",
    "    # Exclude input product from recommendations\n",
    "    recommendations = recommendations[recommendations['related_product'] != product_id].head(top_n)\n",
    "    \n",
    "    return recommendations"
   ]
  },
  {
   "cell_type": "code",
   "execution_count": 223,
   "metadata": {},
   "outputs": [
    {
     "name": "stdout",
     "output_type": "stream",
     "text": [
      "Recommendations for B08V1KXBQD:\n"
     ]
    },
    {
     "data": {
      "text/html": [
       "<div>\n",
       "<style scoped>\n",
       "    .dataframe tbody tr th:only-of-type {\n",
       "        vertical-align: middle;\n",
       "    }\n",
       "\n",
       "    .dataframe tbody tr th {\n",
       "        vertical-align: top;\n",
       "    }\n",
       "\n",
       "    .dataframe thead th {\n",
       "        text-align: right;\n",
       "    }\n",
       "</style>\n",
       "<table border=\"1\" class=\"dataframe\">\n",
       "  <thead>\n",
       "    <tr style=\"text-align: right;\">\n",
       "      <th></th>\n",
       "      <th>related_product</th>\n",
       "      <th>score</th>\n",
       "    </tr>\n",
       "  </thead>\n",
       "  <tbody>\n",
       "    <tr>\n",
       "      <th>257</th>\n",
       "      <td>B08V12CT4C</td>\n",
       "      <td>651</td>\n",
       "    </tr>\n",
       "    <tr>\n",
       "      <th>118398</th>\n",
       "      <td>B07TV364MZ</td>\n",
       "      <td>122</td>\n",
       "    </tr>\n",
       "    <tr>\n",
       "      <th>543134</th>\n",
       "      <td>B07TV22X9M</td>\n",
       "      <td>118</td>\n",
       "    </tr>\n",
       "    <tr>\n",
       "      <th>394226</th>\n",
       "      <td>B07JG9TFSB</td>\n",
       "      <td>116</td>\n",
       "    </tr>\n",
       "    <tr>\n",
       "      <th>254</th>\n",
       "      <td>B08QYYBTMC</td>\n",
       "      <td>93</td>\n",
       "    </tr>\n",
       "    <tr>\n",
       "      <th>...</th>\n",
       "      <td>...</td>\n",
       "      <td>...</td>\n",
       "    </tr>\n",
       "    <tr>\n",
       "      <th>1206883</th>\n",
       "      <td>B07RSQXF2F</td>\n",
       "      <td>5</td>\n",
       "    </tr>\n",
       "    <tr>\n",
       "      <th>13808238</th>\n",
       "      <td>B0B6ZYPL7R</td>\n",
       "      <td>5</td>\n",
       "    </tr>\n",
       "    <tr>\n",
       "      <th>469158</th>\n",
       "      <td>B07TRL83YX</td>\n",
       "      <td>5</td>\n",
       "    </tr>\n",
       "    <tr>\n",
       "      <th>298809</th>\n",
       "      <td>B07GPT8HPY</td>\n",
       "      <td>5</td>\n",
       "    </tr>\n",
       "    <tr>\n",
       "      <th>15348249</th>\n",
       "      <td>B09NBMFNNT</td>\n",
       "      <td>4</td>\n",
       "    </tr>\n",
       "  </tbody>\n",
       "</table>\n",
       "<p>100 rows × 2 columns</p>\n",
       "</div>"
      ],
      "text/plain": [
       "         related_product  score\n",
       "257           B08V12CT4C    651\n",
       "118398        B07TV364MZ    122\n",
       "543134        B07TV22X9M    118\n",
       "394226        B07JG9TFSB    116\n",
       "254           B08QYYBTMC     93\n",
       "...                  ...    ...\n",
       "1206883       B07RSQXF2F      5\n",
       "13808238      B0B6ZYPL7R      5\n",
       "469158        B07TRL83YX      5\n",
       "298809        B07GPT8HPY      5\n",
       "15348249      B09NBMFNNT      4\n",
       "\n",
       "[100 rows x 2 columns]"
      ]
     },
     "execution_count": 223,
     "metadata": {},
     "output_type": "execute_result"
    }
   ],
   "source": [
    "# Get recommendations                   # Exclude the product itself\n",
    "prod_id = 'B08V1KXBQD'                  # Product ID to get recommendations for\n",
    "prod_rec = 100                          # Number of recommendations for product_id\n",
    "recommendations = recommend_products(prod_id, train_cooccurrence, top_n=prod_rec)\n",
    "print(f'Recommendations for {prod_id}:')\n",
    "recommendations"
   ]
  },
  {
   "cell_type": "code",
   "execution_count": null,
   "metadata": {},
   "outputs": [],
   "source": []
  }
 ],
 "metadata": {
  "kernelspec": {
   "display_name": "tryfastai",
   "language": "python",
   "name": "python3"
  },
  "language_info": {
   "codemirror_mode": {
    "name": "ipython",
    "version": 3
   },
   "file_extension": ".py",
   "mimetype": "text/x-python",
   "name": "python",
   "nbconvert_exporter": "python",
   "pygments_lexer": "ipython3",
   "version": "3.9.16"
  },
  "orig_nbformat": 4
 },
 "nbformat": 4,
 "nbformat_minor": 2
}
