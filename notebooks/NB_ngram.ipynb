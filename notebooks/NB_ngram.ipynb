{
 "cells": [
  {
   "cell_type": "code",
   "execution_count": 1,
   "metadata": {
    "tags": []
   },
   "outputs": [
    {
     "name": "stderr",
     "output_type": "stream",
     "text": [
      "[nltk_data] Downloading package punkt to\n",
      "[nltk_data]     /home/ma/ma_ma/ma_pbhattar/nltk_data...\n",
      "[nltk_data]   Package punkt is already up-to-date!\n"
     ]
    },
    {
     "data": {
      "text/plain": [
       "True"
      ]
     },
     "execution_count": 1,
     "metadata": {},
     "output_type": "execute_result"
    }
   ],
   "source": [
    "import pandas as pd\n",
    "import nltk\n",
    "from collections import Counter\n",
    "from nltk.tokenize import word_tokenize\n",
    "from nltk.util import ngrams\n",
    "nltk.download('punkt')"
   ]
  },
  {
   "cell_type": "code",
   "execution_count": 2,
   "metadata": {
    "tags": []
   },
   "outputs": [],
   "source": [
    "sessions_test=pd.read_csv(\"../../data/test/sessions_test_task1_phase2.csv\")\n",
    "sessions_train=pd.read_csv(\"../../data/train/sessions_train.csv\")"
   ]
  },
  {
   "cell_type": "code",
   "execution_count": 3,
   "metadata": {
    "tags": []
   },
   "outputs": [
    {
     "data": {
      "text/html": [
       "<div>\n",
       "<style scoped>\n",
       "    .dataframe tbody tr th:only-of-type {\n",
       "        vertical-align: middle;\n",
       "    }\n",
       "\n",
       "    .dataframe tbody tr th {\n",
       "        vertical-align: top;\n",
       "    }\n",
       "\n",
       "    .dataframe thead th {\n",
       "        text-align: right;\n",
       "    }\n",
       "</style>\n",
       "<table border=\"1\" class=\"dataframe\">\n",
       "  <thead>\n",
       "    <tr style=\"text-align: right;\">\n",
       "      <th></th>\n",
       "      <th>prev_items</th>\n",
       "      <th>locale</th>\n",
       "    </tr>\n",
       "  </thead>\n",
       "  <tbody>\n",
       "    <tr>\n",
       "      <th>0</th>\n",
       "      <td>['B087VLP2RT' 'B09BRQSHYH' 'B099KW4ZLV']</td>\n",
       "      <td>DE</td>\n",
       "    </tr>\n",
       "    <tr>\n",
       "      <th>1</th>\n",
       "      <td>['B08XW4W667' 'B096VMCJYF' 'B096VMCJYF']</td>\n",
       "      <td>DE</td>\n",
       "    </tr>\n",
       "  </tbody>\n",
       "</table>\n",
       "</div>"
      ],
      "text/plain": [
       "                                 prev_items locale\n",
       "0  ['B087VLP2RT' 'B09BRQSHYH' 'B099KW4ZLV']     DE\n",
       "1  ['B08XW4W667' 'B096VMCJYF' 'B096VMCJYF']     DE"
      ]
     },
     "execution_count": 3,
     "metadata": {},
     "output_type": "execute_result"
    }
   ],
   "source": [
    "sessions_test.head(2)"
   ]
  },
  {
   "cell_type": "code",
   "execution_count": 4,
   "metadata": {
    "tags": []
   },
   "outputs": [],
   "source": [
    "def convert_to_text_list(df):\n",
    "    texts = []\n",
    "    for index, row in df.iterrows():\n",
    "        text = str(row['prev_items'])[1:-1]\n",
    "        text = text.replace(\"'\", \"\")\n",
    "        text = text.replace(\"\\n\", \"\")\n",
    "        text = text + ' ' + str(row['next_item'])\n",
    "        texts.append(text)\n",
    "    return texts\n",
    "\n",
    "def convert_to_token_list(df):\n",
    "    tokens = []\n",
    "    for index, row in df.iterrows():\n",
    "        text = str(row['prev_items'])[1:-1]\n",
    "        text = text.replace(\"'\", \"\")\n",
    "        text = text.replace(\"\\n\", \"\")\n",
    "        tokens.extend(text.split())\n",
    "        tokens.append(str(row['next_item']))\n",
    "    return tokens"
   ]
  },
  {
   "cell_type": "code",
   "execution_count": 5,
   "metadata": {
    "tags": []
   },
   "outputs": [],
   "source": [
    "from collections import defaultdict\n",
    "\n",
    "def create_ngram_model(texts, n):\n",
    "    ngrams = defaultdict(lambda: defaultdict(int))\n",
    "\n",
    "    # Tokenize the texts\n",
    "    tokens = [word_tokenize(text) for text in texts]\n",
    "\n",
    "    # Create n-grams\n",
    "    for token_list in tokens:\n",
    "        for i in range(len(token_list) - n):\n",
    "            ngram = tuple(token_list[i:i + n])\n",
    "            next_token = token_list[i + n]\n",
    "            ngrams[ngram][next_token] += 1\n",
    "\n",
    "    # Sort the next tokens by frequency\n",
    "    for ngram, next_tokens in ngrams.items():\n",
    "        ngrams[ngram] = dict(sorted(next_tokens.items(), key=lambda x: x[1], reverse=True)[:100])\n",
    "\n",
    "    return ngrams"
   ]
  },
  {
   "cell_type": "code",
   "execution_count": 6,
   "metadata": {
    "tags": []
   },
   "outputs": [],
   "source": [
    "# Seperate the sessions data by locale\n",
    "sessions_train_DE = sessions_train[sessions_train['locale'] == 'DE']\n",
    "sessions_train_JP = sessions_train[sessions_train['locale'] == 'JP']\n",
    "sessions_train_UK = sessions_train[sessions_train['locale'] == 'UK']"
   ]
  },
  {
   "cell_type": "code",
   "execution_count": 7,
   "metadata": {
    "tags": []
   },
   "outputs": [],
   "source": [
    "# Generate n-gram models for each locale\n",
    "onegram_DE = create_ngram_model(convert_to_text_list(sessions_train_DE), 1)"
   ]
  },
  {
   "cell_type": "code",
   "execution_count": 8,
   "metadata": {
    "tags": []
   },
   "outputs": [
    {
     "name": "stdout",
     "output_type": "stream",
     "text": [
      "1min 44s ± 1.86 s per loop (mean ± std. dev. of 7 runs, 1 loop each)\n"
     ]
    }
   ],
   "source": [
    "%%timeit\n",
    "onegram_JP = create_ngram_model(convert_to_text_list(sessions_train_JP), 1)"
   ]
  },
  {
   "cell_type": "code",
   "execution_count": 10,
   "metadata": {
    "tags": []
   },
   "outputs": [
    {
     "name": "stdout",
     "output_type": "stream",
     "text": [
      "1min 55s ± 171 ms per loop (mean ± std. dev. of 7 runs, 1 loop each)\n"
     ]
    }
   ],
   "source": [
    "%%timeit\n",
    "onegram_UK = create_ngram_model(convert_to_text_list(sessions_train_UK), 1)"
   ]
  },
  {
   "cell_type": "code",
   "execution_count": null,
   "metadata": {
    "tags": []
   },
   "outputs": [],
   "source": [
    "# Combine ngram models and all_grams into dictionaries for easy access\n",
    "ngram_models = {'DE': onegram_DE, 'JP': onegram_JP, 'UK': onegram_UK}"
   ]
  },
  {
   "cell_type": "code",
   "execution_count": null,
   "metadata": {
    "tags": []
   },
   "outputs": [],
   "source": [
    "%%timeit\n",
    "all_grams_dict = {'DE': Counter(convert_to_token_list(sessions_train_DE)),\n",
    "                  'JP': Counter(convert_to_token_list(sessions_train_JP)),\n",
    "                  'UK': Counter(convert_to_token_list(sessions_train_UK))}"
   ]
  },
  {
   "cell_type": "code",
   "execution_count": null,
   "metadata": {
    "tags": []
   },
   "outputs": [],
   "source": [
    "# Find the top 100 items for each locale\n",
    "for locale in all_grams_dict:\n",
    "    all_grams_dict[locale] = all_grams_dict[locale].most_common(100)"
   ]
  },
  {
   "cell_type": "code",
   "execution_count": null,
   "metadata": {
    "tags": []
   },
   "outputs": [],
   "source": [
    "# Make predictions based on locale\n",
    "for index, row in sessions_test.iterrows():\n",
    "    predictions = []\n",
    "    text = str(row['prev_items'])[1:-1]\n",
    "    text = text.replace(\"'\", \"\")\n",
    "    text = text.replace(\"\\n\", \"\")\n",
    "    tokens = word_tokenize(text)\n",
    "    gram = [tokens[-1]]\n",
    "    gram = tuple(gram)\n",
    "    locale = row['locale']\n",
    "    i = 1\n",
    "    for k, v in ngram_models[locale][gram].items():\n",
    "        predictions.append(k)\n",
    "        if i == 100:\n",
    "            break\n",
    "        i += 1\n",
    "    if i < 100:\n",
    "        for k, v in all_grams_dict[locale]:\n",
    "            predictions.append(k)\n",
    "            if i == 100:\n",
    "                break\n",
    "            i += 1\n",
    "    sessions_test.at[index, 'next_item_prediction'] = str(predictions)"
   ]
  },
  {
   "cell_type": "code",
   "execution_count": null,
   "metadata": {},
   "outputs": [],
   "source": [
    "sessions_test.head(2)"
   ]
  },
  {
   "cell_type": "code",
   "execution_count": null,
   "metadata": {},
   "outputs": [],
   "source": [
    "sessions_test.iloc[0].next_item_prediction"
   ]
  },
  {
   "cell_type": "code",
   "execution_count": null,
   "metadata": {},
   "outputs": [],
   "source": [
    "for index, row in sessions_test.iterrows():\n",
    "    sessions_test.at[index, 'next_item_prediction']=str(row['next_item_prediction'])[1:-1]"
   ]
  },
  {
   "cell_type": "code",
   "execution_count": null,
   "metadata": {},
   "outputs": [],
   "source": [
    "sessions_test.iloc[0].next_item_prediction"
   ]
  },
  {
   "cell_type": "code",
   "execution_count": null,
   "metadata": {},
   "outputs": [],
   "source": [
    "for index, row in sessions_test.iterrows():\n",
    "    sessions_test.at[index, 'next_item_prediction']=row['next_item_prediction'].replace(\"'\",\"\")"
   ]
  },
  {
   "cell_type": "code",
   "execution_count": null,
   "metadata": {},
   "outputs": [],
   "source": [
    "sessions_test.iloc[0].next_item_prediction"
   ]
  },
  {
   "cell_type": "code",
   "execution_count": null,
   "metadata": {},
   "outputs": [],
   "source": [
    "sessions_test.drop('prev_items', axis=1, inplace=True)"
   ]
  },
  {
   "cell_type": "code",
   "execution_count": null,
   "metadata": {},
   "outputs": [],
   "source": [
    "# Reorganize next_item_prediction column to match submission format\n",
    "for index, row in sessions_test.iterrows():\n",
    "    sessions_test.at[index, 'next_item_prediction']=row['next_item_prediction'].split(', ')"
   ]
  },
  {
   "cell_type": "code",
   "execution_count": null,
   "metadata": {},
   "outputs": [],
   "source": [
    "sessions_test.head(2)"
   ]
  },
  {
   "cell_type": "code",
   "execution_count": null,
   "metadata": {},
   "outputs": [],
   "source": [
    "sessions_test.iloc[0].next_item_prediction"
   ]
  },
  {
   "cell_type": "code",
   "execution_count": null,
   "metadata": {},
   "outputs": [],
   "source": [
    "output_path = '../../outputs/' + 'task1_predictions.parquet'\n",
    "\n",
    "import pyarrow.parquet as pq\n",
    "import pyarrow as pa\n",
    "\n",
    "# Save predictions to parquet\n",
    "table = pa.Table.from_pandas(sessions_test)\n",
    "pq.write_table(table, output_path, compression='gzip')"
   ]
  },
  {
   "cell_type": "code",
   "execution_count": null,
   "metadata": {},
   "outputs": [],
   "source": []
  }
 ],
 "metadata": {
  "kernelspec": {
   "display_name": "Python (new_try_env)",
   "language": "python",
   "name": "new_try_env"
  },
  "language_info": {
   "codemirror_mode": {
    "name": "ipython",
    "version": 3
   },
   "file_extension": ".py",
   "mimetype": "text/x-python",
   "name": "python",
   "nbconvert_exporter": "python",
   "pygments_lexer": "ipython3",
   "version": "3.9.7"
  }
 },
 "nbformat": 4,
 "nbformat_minor": 4
}
