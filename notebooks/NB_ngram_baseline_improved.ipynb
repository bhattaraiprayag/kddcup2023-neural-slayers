{
 "cells": [
  {
   "cell_type": "code",
   "execution_count": 48,
   "metadata": {},
   "outputs": [
    {
     "name": "stderr",
     "output_type": "stream",
     "text": [
      "[nltk_data] Downloading package punkt to\n",
      "[nltk_data]     /home/ma/ma_ma/ma_pbhattar/nltk_data...\n",
      "[nltk_data]   Package punkt is already up-to-date!\n"
     ]
    }
   ],
   "source": [
    "import gc\n",
    "import re\n",
    "import nltk\n",
    "import faiss\n",
    "import importlib\n",
    "\n",
    "import numpy as np\n",
    "import pandas as pd\n",
    "\n",
    "from tqdm.auto import tqdm\n",
    "from nltk.util import ngrams\n",
    "from nltk.tokenize import word_tokenize\n",
    "nltk.download('punkt')\n",
    "from collections import defaultdict, Counter\n",
    "\n",
    "import warnings\n",
    "warnings.simplefilter('ignore')\n",
    "pd.set_option('display.max_columns', None)"
   ]
  },
  {
   "cell_type": "code",
   "execution_count": 49,
   "metadata": {},
   "outputs": [
    {
     "data": {
      "text/html": [
       "<div>\n",
       "<style scoped>\n",
       "    .dataframe tbody tr th:only-of-type {\n",
       "        vertical-align: middle;\n",
       "    }\n",
       "\n",
       "    .dataframe tbody tr th {\n",
       "        vertical-align: top;\n",
       "    }\n",
       "\n",
       "    .dataframe thead th {\n",
       "        text-align: right;\n",
       "    }\n",
       "</style>\n",
       "<table border=\"1\" class=\"dataframe\">\n",
       "  <thead>\n",
       "    <tr style=\"text-align: right;\">\n",
       "      <th></th>\n",
       "      <th>prev_items</th>\n",
       "      <th>next_item</th>\n",
       "      <th>locale</th>\n",
       "    </tr>\n",
       "  </thead>\n",
       "  <tbody>\n",
       "    <tr>\n",
       "      <th>0</th>\n",
       "      <td>['B09W9FND7K' 'B09JSPLN1M']</td>\n",
       "      <td>B09M7GY217</td>\n",
       "      <td>DE</td>\n",
       "    </tr>\n",
       "    <tr>\n",
       "      <th>1</th>\n",
       "      <td>['B076THCGSG' 'B007MO8IME' 'B08MF65MLV' 'B001B...</td>\n",
       "      <td>B001B4THSA</td>\n",
       "      <td>DE</td>\n",
       "    </tr>\n",
       "    <tr>\n",
       "      <th>2</th>\n",
       "      <td>['B0B1LGXWDS' 'B00AZYORS2' 'B0B1LGXWDS' 'B00AZ...</td>\n",
       "      <td>B0767DTG2Q</td>\n",
       "      <td>DE</td>\n",
       "    </tr>\n",
       "    <tr>\n",
       "      <th>3</th>\n",
       "      <td>['B09XMTWDVT' 'B0B4MZZ8MB' 'B0B7HZ2GWX' 'B09XM...</td>\n",
       "      <td>B0B4R9NN4B</td>\n",
       "      <td>DE</td>\n",
       "    </tr>\n",
       "    <tr>\n",
       "      <th>4</th>\n",
       "      <td>['B09Y5CSL3T' 'B09Y5DPTXN' 'B09FKD61R8']</td>\n",
       "      <td>B0BGVBKWGZ</td>\n",
       "      <td>DE</td>\n",
       "    </tr>\n",
       "    <tr>\n",
       "      <th>...</th>\n",
       "      <td>...</td>\n",
       "      <td>...</td>\n",
       "      <td>...</td>\n",
       "    </tr>\n",
       "    <tr>\n",
       "      <th>3606244</th>\n",
       "      <td>['B086CYFSKW' 'B0874F9859' 'B086CYFSKW']</td>\n",
       "      <td>B07B5TYD76</td>\n",
       "      <td>IT</td>\n",
       "    </tr>\n",
       "    <tr>\n",
       "      <th>3606245</th>\n",
       "      <td>['B09NRZKZ7V' 'B08WJTPV93']</td>\n",
       "      <td>B08L1P4C3D</td>\n",
       "      <td>IT</td>\n",
       "    </tr>\n",
       "    <tr>\n",
       "      <th>3606246</th>\n",
       "      <td>['B085JFX7MP' 'B085JGHW8R']</td>\n",
       "      <td>B01MPWVD44</td>\n",
       "      <td>IT</td>\n",
       "    </tr>\n",
       "    <tr>\n",
       "      <th>3606247</th>\n",
       "      <td>['B00B0UING2' 'B00B0UING2']</td>\n",
       "      <td>B00D3HYEZ4</td>\n",
       "      <td>IT</td>\n",
       "    </tr>\n",
       "    <tr>\n",
       "      <th>3606248</th>\n",
       "      <td>['B092S9D1SD' 'B09XQQ1S72' 'B0852MS7QC' 'B0B1V...</td>\n",
       "      <td>B0B7RX65YP</td>\n",
       "      <td>IT</td>\n",
       "    </tr>\n",
       "  </tbody>\n",
       "</table>\n",
       "<p>3606249 rows × 3 columns</p>\n",
       "</div>"
      ],
      "text/plain": [
       "                                                prev_items   next_item locale\n",
       "0                              ['B09W9FND7K' 'B09JSPLN1M']  B09M7GY217     DE\n",
       "1        ['B076THCGSG' 'B007MO8IME' 'B08MF65MLV' 'B001B...  B001B4THSA     DE\n",
       "2        ['B0B1LGXWDS' 'B00AZYORS2' 'B0B1LGXWDS' 'B00AZ...  B0767DTG2Q     DE\n",
       "3        ['B09XMTWDVT' 'B0B4MZZ8MB' 'B0B7HZ2GWX' 'B09XM...  B0B4R9NN4B     DE\n",
       "4                 ['B09Y5CSL3T' 'B09Y5DPTXN' 'B09FKD61R8']  B0BGVBKWGZ     DE\n",
       "...                                                    ...         ...    ...\n",
       "3606244           ['B086CYFSKW' 'B0874F9859' 'B086CYFSKW']  B07B5TYD76     IT\n",
       "3606245                        ['B09NRZKZ7V' 'B08WJTPV93']  B08L1P4C3D     IT\n",
       "3606246                        ['B085JFX7MP' 'B085JGHW8R']  B01MPWVD44     IT\n",
       "3606247                        ['B00B0UING2' 'B00B0UING2']  B00D3HYEZ4     IT\n",
       "3606248  ['B092S9D1SD' 'B09XQQ1S72' 'B0852MS7QC' 'B0B1V...  B0B7RX65YP     IT\n",
       "\n",
       "[3606249 rows x 3 columns]"
      ]
     },
     "execution_count": 49,
     "metadata": {},
     "output_type": "execute_result"
    }
   ],
   "source": [
    "df_sess = pd.read_csv(\"../../data/train/sessions_train.csv\")\n",
    "df_sess"
   ]
  },
  {
   "cell_type": "code",
   "execution_count": 50,
   "metadata": {},
   "outputs": [
    {
     "data": {
      "text/html": [
       "<div>\n",
       "<style scoped>\n",
       "    .dataframe tbody tr th:only-of-type {\n",
       "        vertical-align: middle;\n",
       "    }\n",
       "\n",
       "    .dataframe tbody tr th {\n",
       "        vertical-align: top;\n",
       "    }\n",
       "\n",
       "    .dataframe thead th {\n",
       "        text-align: right;\n",
       "    }\n",
       "</style>\n",
       "<table border=\"1\" class=\"dataframe\">\n",
       "  <thead>\n",
       "    <tr style=\"text-align: right;\">\n",
       "      <th></th>\n",
       "      <th>prev_items</th>\n",
       "      <th>locale</th>\n",
       "    </tr>\n",
       "  </thead>\n",
       "  <tbody>\n",
       "    <tr>\n",
       "      <th>0</th>\n",
       "      <td>['B087VLP2RT' 'B09BRQSHYH' 'B099KW4ZLV']</td>\n",
       "      <td>DE</td>\n",
       "    </tr>\n",
       "    <tr>\n",
       "      <th>1</th>\n",
       "      <td>['B08XW4W667' 'B096VMCJYF' 'B096VMCJYF']</td>\n",
       "      <td>DE</td>\n",
       "    </tr>\n",
       "    <tr>\n",
       "      <th>2</th>\n",
       "      <td>['B09Z4T2GJ3' 'B09Z3FBXMB' 'B0936K9LTJ' 'B09Z4...</td>\n",
       "      <td>DE</td>\n",
       "    </tr>\n",
       "    <tr>\n",
       "      <th>3</th>\n",
       "      <td>['B07T6Y2HG7' 'B07T2NBLX9' 'B07Y1G5F3Y']</td>\n",
       "      <td>DE</td>\n",
       "    </tr>\n",
       "    <tr>\n",
       "      <th>4</th>\n",
       "      <td>['B0B2DRKZ6X' 'B0B2DRKZ6X' 'B0B2DRKZ6X']</td>\n",
       "      <td>DE</td>\n",
       "    </tr>\n",
       "    <tr>\n",
       "      <th>...</th>\n",
       "      <td>...</td>\n",
       "      <td>...</td>\n",
       "    </tr>\n",
       "    <tr>\n",
       "      <th>316967</th>\n",
       "      <td>['B078RJX3CC' 'B07GKM97YF']</td>\n",
       "      <td>UK</td>\n",
       "    </tr>\n",
       "    <tr>\n",
       "      <th>316968</th>\n",
       "      <td>['B01LX5Y7RG' 'B00M35Y2J0' 'B0BFR9D1Y2' 'B09BB...</td>\n",
       "      <td>UK</td>\n",
       "    </tr>\n",
       "    <tr>\n",
       "      <th>316969</th>\n",
       "      <td>['B09HGRXXTM' 'B08VDNCZT9']</td>\n",
       "      <td>UK</td>\n",
       "    </tr>\n",
       "    <tr>\n",
       "      <th>316970</th>\n",
       "      <td>['B089CVQ2FS' 'B089CVQ2FS']</td>\n",
       "      <td>UK</td>\n",
       "    </tr>\n",
       "    <tr>\n",
       "      <th>316971</th>\n",
       "      <td>['B07H48412Q' 'B093GS4XYP' 'B07H42L4TJ']</td>\n",
       "      <td>UK</td>\n",
       "    </tr>\n",
       "  </tbody>\n",
       "</table>\n",
       "<p>316972 rows × 2 columns</p>\n",
       "</div>"
      ],
      "text/plain": [
       "                                               prev_items locale\n",
       "0                ['B087VLP2RT' 'B09BRQSHYH' 'B099KW4ZLV']     DE\n",
       "1                ['B08XW4W667' 'B096VMCJYF' 'B096VMCJYF']     DE\n",
       "2       ['B09Z4T2GJ3' 'B09Z3FBXMB' 'B0936K9LTJ' 'B09Z4...     DE\n",
       "3                ['B07T6Y2HG7' 'B07T2NBLX9' 'B07Y1G5F3Y']     DE\n",
       "4                ['B0B2DRKZ6X' 'B0B2DRKZ6X' 'B0B2DRKZ6X']     DE\n",
       "...                                                   ...    ...\n",
       "316967                        ['B078RJX3CC' 'B07GKM97YF']     UK\n",
       "316968  ['B01LX5Y7RG' 'B00M35Y2J0' 'B0BFR9D1Y2' 'B09BB...     UK\n",
       "316969                        ['B09HGRXXTM' 'B08VDNCZT9']     UK\n",
       "316970                        ['B089CVQ2FS' 'B089CVQ2FS']     UK\n",
       "316971           ['B07H48412Q' 'B093GS4XYP' 'B07H42L4TJ']     UK\n",
       "\n",
       "[316972 rows x 2 columns]"
      ]
     },
     "execution_count": 50,
     "metadata": {},
     "output_type": "execute_result"
    }
   ],
   "source": [
    "df_test = pd.read_csv(\"../../data/test/sessions_test_task1_phase2.csv\")\n",
    "df_test"
   ]
  },
  {
   "cell_type": "code",
   "execution_count": 51,
   "metadata": {},
   "outputs": [],
   "source": [
    "# sessions_test = pd.read_csv(\"../../data/test/sessions_test_task1_phase2.csv\")\n",
    "# sessions_train = pd.read_csv(\"../../data/train/sessions_train.csv\")\n",
    "# products_train = pd.read_csv(\"../../data/train/products_train_processed.csv\")"
   ]
  },
  {
   "cell_type": "code",
   "execution_count": 52,
   "metadata": {},
   "outputs": [],
   "source": [
    "def str2list(x):\n",
    "    x = x.replace('[', '').replace(']', '').replace(\"'\", '').replace('\\n', ' ').replace('\\r', ' ')\n",
    "    l = [i for i in x.split() if i]\n",
    "    return l"
   ]
  },
  {
   "cell_type": "code",
   "execution_count": 53,
   "metadata": {},
   "outputs": [],
   "source": [
    "import data_utils\n",
    "importlib.reload(data_utils)\n",
    "from data_utils import split_locales\n",
    "\n",
    "task1_locales = ['DE', 'JP', 'UK']\n",
    "output_path = '../../outputs/'\n",
    "st_de, st_jp, st_uk = split_locales(df_sess, task1_locales)"
   ]
  },
  {
   "cell_type": "code",
   "execution_count": 54,
   "metadata": {},
   "outputs": [],
   "source": [
    "# def str2list(x, locale=None):\n",
    "#     x = x.replace('[', '').replace(']', '').replace(\"'\", '').replace('\\n', ' ').replace('\\r', ' ')\n",
    "#     l = [i for i in x.split() if i and i in st_de if locale=='DE' and i in st_jp if locale=='JP' and i in st_uk if locale=='UK']\n",
    "#     return l"
   ]
  },
  {
   "cell_type": "code",
   "execution_count": 55,
   "metadata": {},
   "outputs": [],
   "source": [
    "def run_model(df, df_test_locale):\n",
    "    next_item_dict = defaultdict(list)\n",
    "\n",
    "    for _, row in tqdm(df.iterrows(), total=len(df)):\n",
    "        prev_items = str2list(row['prev_items'])\n",
    "        next_item = row['next_item']\n",
    "        prev_items_length = len(prev_items)\n",
    "        if prev_items_length <= 1:\n",
    "            next_item_dict[prev_items[0]].append(next_item)\n",
    "        else:\n",
    "            for i, item in enumerate(prev_items[:-1]):\n",
    "                next_item_dict[item].append(prev_items[i+1])\n",
    "            next_item_dict[prev_items[-1]].append(next_item)\n",
    "\n",
    "    for _, row in tqdm(df_test_locale.iterrows(), total=len(df_test_locale)):\n",
    "        prev_items = str2list(row['prev_items'])\n",
    "        prev_items_length = len(prev_items)\n",
    "        if prev_items_length <= 1:\n",
    "            continue\n",
    "        else:\n",
    "            for i, item in enumerate(prev_items[:-1]):\n",
    "                next_item_dict[item].append(prev_items[i+1])\n",
    "\n",
    "    next_item_map = {}\n",
    "\n",
    "    for item in tqdm(next_item_dict):\n",
    "        counter = Counter(next_item_dict[item])\n",
    "        next_item_map[item] = [i[0] for i in counter.most_common(100)]\n",
    "\n",
    "    k = []\n",
    "    v = []\n",
    "\n",
    "    for item in next_item_dict:\n",
    "        k.append(item)\n",
    "        v.append(next_item_dict[item])\n",
    "\n",
    "    df_next = pd.DataFrame({'item': k, 'next_item': v})\n",
    "    df_next = df_next.explode('next_item').reset_index(drop=True)\n",
    "\n",
    "    top200 = df_next['next_item'].value_counts().index.tolist()[:200]\n",
    "\n",
    "    df_test_locale['last_item'] = df_test_locale['prev_items'].apply(lambda x: str2list(x)[-1])\n",
    "    df_test_locale['next_item_prediction'] = df_test_locale['last_item'].map(next_item_map)\n",
    "\n",
    "    preds = []\n",
    "\n",
    "    for _, row in tqdm(df_test_locale.iterrows(), total=len(df_test_locale)):\n",
    "        pred_orig = row['next_item_prediction']\n",
    "        pred = pred_orig\n",
    "        prev_items = str2list(row['prev_items'])\n",
    "        if type(pred) == float:\n",
    "            pred = top200[:100]\n",
    "        else:\n",
    "            if len(pred_orig) < 100:\n",
    "                for i in top200:\n",
    "                    if i not in pred_orig and i not in prev_items:\n",
    "                        pred.append(i)\n",
    "                    if len(pred) >= 100:\n",
    "                        break\n",
    "            else:\n",
    "                pred = pred[:100]\n",
    "\n",
    "        pred = [i for i in pred if i not in prev_items] # Filter out items that are already in prev_items\n",
    "\n",
    "        # If after filtering pred has less than 100 items, fill up with items from top200\n",
    "        if len(pred) < 100:\n",
    "            for i in top200:\n",
    "                if i not in pred and i not in prev_items:\n",
    "                    pred.append(i)\n",
    "                if len(pred) >= 100:\n",
    "                    break\n",
    "        preds.append(pred)\n",
    "\n",
    "    df_test_locale['next_item_prediction'] = preds\n",
    "\n",
    "    return df_test_locale"
   ]
  },
  {
   "cell_type": "code",
   "execution_count": 56,
   "metadata": {},
   "outputs": [],
   "source": [
    "# Create locale-specific test dataframes\n",
    "df_test_de = df_test[df_test['locale'] == 'DE']\n",
    "df_test_jp = df_test[df_test['locale'] == 'JP']\n",
    "df_test_uk = df_test[df_test['locale'] == 'UK']"
   ]
  },
  {
   "cell_type": "code",
   "execution_count": 57,
   "metadata": {},
   "outputs": [
    {
     "data": {
      "application/vnd.jupyter.widget-view+json": {
       "model_id": "f5ed0f3d40564a5ea15b63f7861817de",
       "version_major": 2,
       "version_minor": 0
      },
      "text/plain": [
       "  0%|          | 0/1111416 [00:00<?, ?it/s]"
      ]
     },
     "metadata": {},
     "output_type": "display_data"
    },
    {
     "data": {
      "application/vnd.jupyter.widget-view+json": {
       "model_id": "e6359fda352a41aa92a4ff236037c001",
       "version_major": 2,
       "version_minor": 0
      },
      "text/plain": [
       "  0%|          | 0/104568 [00:00<?, ?it/s]"
      ]
     },
     "metadata": {},
     "output_type": "display_data"
    },
    {
     "data": {
      "application/vnd.jupyter.widget-view+json": {
       "model_id": "6a2d50c0834e4fb79191224a3a8e849f",
       "version_major": 2,
       "version_minor": 0
      },
      "text/plain": [
       "  0%|          | 0/488848 [00:00<?, ?it/s]"
      ]
     },
     "metadata": {},
     "output_type": "display_data"
    },
    {
     "data": {
      "application/vnd.jupyter.widget-view+json": {
       "model_id": "55370042f4f841a49efd4775cbb53bae",
       "version_major": 2,
       "version_minor": 0
      },
      "text/plain": [
       "  0%|          | 0/104568 [00:00<?, ?it/s]"
      ]
     },
     "metadata": {},
     "output_type": "display_data"
    }
   ],
   "source": [
    "# Run the model for each locale\n",
    "df_test_de = run_model(st_de, df_test_de)\n",
    "df_test_jp = run_model(st_jp, df_test_jp)\n",
    "df_test_uk = run_model(st_uk, df_test_uk)"
   ]
  },
  {
   "cell_type": "code",
   "execution_count": 59,
   "metadata": {},
   "outputs": [
    {
     "data": {
      "text/html": [
       "<div>\n",
       "<style scoped>\n",
       "    .dataframe tbody tr th:only-of-type {\n",
       "        vertical-align: middle;\n",
       "    }\n",
       "\n",
       "    .dataframe tbody tr th {\n",
       "        vertical-align: top;\n",
       "    }\n",
       "\n",
       "    .dataframe thead th {\n",
       "        text-align: right;\n",
       "    }\n",
       "</style>\n",
       "<table border=\"1\" class=\"dataframe\">\n",
       "  <thead>\n",
       "    <tr style=\"text-align: right;\">\n",
       "      <th></th>\n",
       "      <th>prev_items</th>\n",
       "      <th>locale</th>\n",
       "      <th>last_item</th>\n",
       "      <th>next_item_prediction</th>\n",
       "    </tr>\n",
       "  </thead>\n",
       "  <tbody>\n",
       "    <tr>\n",
       "      <th>0</th>\n",
       "      <td>['B087VLP2RT' 'B09BRQSHYH' 'B099KW4ZLV']</td>\n",
       "      <td>DE</td>\n",
       "      <td>B099KW4ZLV</td>\n",
       "      <td>[B07SDFLVKD, B091CK241X, B0BGC82WVW, B0B9GJLV2...</td>\n",
       "    </tr>\n",
       "    <tr>\n",
       "      <th>1</th>\n",
       "      <td>['B08XW4W667' 'B096VMCJYF' 'B096VMCJYF']</td>\n",
       "      <td>DE</td>\n",
       "      <td>B096VMCJYF</td>\n",
       "      <td>[B084CB7GX9, B09YD8XV6M, B004P4QFJM, B004P4OF1...</td>\n",
       "    </tr>\n",
       "    <tr>\n",
       "      <th>2</th>\n",
       "      <td>['B09Z4T2GJ3' 'B09Z3FBXMB' 'B0936K9LTJ' 'B09Z4...</td>\n",
       "      <td>DE</td>\n",
       "      <td>B09Z4PYG8Q</td>\n",
       "      <td>[B09Z4PZQBF, B08LLF9M11, B01GS8K962, B08KHJN9H...</td>\n",
       "    </tr>\n",
       "    <tr>\n",
       "      <th>3</th>\n",
       "      <td>['B07T6Y2HG7' 'B07T2NBLX9' 'B07Y1G5F3Y']</td>\n",
       "      <td>DE</td>\n",
       "      <td>B07Y1G5F3Y</td>\n",
       "      <td>[B09GKJ9RRJ, B07X8MW1G1, B07QQZD49D, B07T5XJW9...</td>\n",
       "    </tr>\n",
       "    <tr>\n",
       "      <th>4</th>\n",
       "      <td>['B0B2DRKZ6X' 'B0B2DRKZ6X' 'B0B2DRKZ6X']</td>\n",
       "      <td>DE</td>\n",
       "      <td>B0B2DRKZ6X</td>\n",
       "      <td>[B0B2JY9THB, B08YK8FQJ8, B08SHZHRQ7, B09C89S7W...</td>\n",
       "    </tr>\n",
       "    <tr>\n",
       "      <th>...</th>\n",
       "      <td>...</td>\n",
       "      <td>...</td>\n",
       "      <td>...</td>\n",
       "      <td>...</td>\n",
       "    </tr>\n",
       "    <tr>\n",
       "      <th>316967</th>\n",
       "      <td>['B078RJX3CC' 'B07GKM97YF']</td>\n",
       "      <td>UK</td>\n",
       "      <td>B07GKM97YF</td>\n",
       "      <td>[B07GKP2LCF, B07GKYSHB4, B00V6FIFZ0, B006DDGCI...</td>\n",
       "    </tr>\n",
       "    <tr>\n",
       "      <th>316968</th>\n",
       "      <td>['B01LX5Y7RG' 'B00M35Y2J0' 'B0BFR9D1Y2' 'B09BB...</td>\n",
       "      <td>UK</td>\n",
       "      <td>B000FHC0QK</td>\n",
       "      <td>[B00M35Y326, B08B395NHL, B091DWY6CH, B085C7TCT...</td>\n",
       "    </tr>\n",
       "    <tr>\n",
       "      <th>316969</th>\n",
       "      <td>['B09HGRXXTM' 'B08VDNCZT9']</td>\n",
       "      <td>UK</td>\n",
       "      <td>B08VDNCZT9</td>\n",
       "      <td>[B08VDHH6QF, B08VDSL596, B08VD5DC5L, B07QK2SPP...</td>\n",
       "    </tr>\n",
       "    <tr>\n",
       "      <th>316970</th>\n",
       "      <td>['B089CVQ2FS' 'B089CVQ2FS']</td>\n",
       "      <td>UK</td>\n",
       "      <td>B089CVQ2FS</td>\n",
       "      <td>[B089CZWB4C, B08W2JJZBM, B08T1ZJYHV, B09WCQYGX...</td>\n",
       "    </tr>\n",
       "    <tr>\n",
       "      <th>316971</th>\n",
       "      <td>['B07H48412Q' 'B093GS4XYP' 'B07H42L4TJ']</td>\n",
       "      <td>UK</td>\n",
       "      <td>B07H42L4TJ</td>\n",
       "      <td>[B0861HW2QC, B08GY1QYXP, B07N8QY3YH, B08CN3G4N...</td>\n",
       "    </tr>\n",
       "  </tbody>\n",
       "</table>\n",
       "<p>316972 rows × 4 columns</p>\n",
       "</div>"
      ],
      "text/plain": [
       "                                               prev_items locale   last_item   \n",
       "0                ['B087VLP2RT' 'B09BRQSHYH' 'B099KW4ZLV']     DE  B099KW4ZLV  \\\n",
       "1                ['B08XW4W667' 'B096VMCJYF' 'B096VMCJYF']     DE  B096VMCJYF   \n",
       "2       ['B09Z4T2GJ3' 'B09Z3FBXMB' 'B0936K9LTJ' 'B09Z4...     DE  B09Z4PYG8Q   \n",
       "3                ['B07T6Y2HG7' 'B07T2NBLX9' 'B07Y1G5F3Y']     DE  B07Y1G5F3Y   \n",
       "4                ['B0B2DRKZ6X' 'B0B2DRKZ6X' 'B0B2DRKZ6X']     DE  B0B2DRKZ6X   \n",
       "...                                                   ...    ...         ...   \n",
       "316967                        ['B078RJX3CC' 'B07GKM97YF']     UK  B07GKM97YF   \n",
       "316968  ['B01LX5Y7RG' 'B00M35Y2J0' 'B0BFR9D1Y2' 'B09BB...     UK  B000FHC0QK   \n",
       "316969                        ['B09HGRXXTM' 'B08VDNCZT9']     UK  B08VDNCZT9   \n",
       "316970                        ['B089CVQ2FS' 'B089CVQ2FS']     UK  B089CVQ2FS   \n",
       "316971           ['B07H48412Q' 'B093GS4XYP' 'B07H42L4TJ']     UK  B07H42L4TJ   \n",
       "\n",
       "                                     next_item_prediction  \n",
       "0       [B07SDFLVKD, B091CK241X, B0BGC82WVW, B0B9GJLV2...  \n",
       "1       [B084CB7GX9, B09YD8XV6M, B004P4QFJM, B004P4OF1...  \n",
       "2       [B09Z4PZQBF, B08LLF9M11, B01GS8K962, B08KHJN9H...  \n",
       "3       [B09GKJ9RRJ, B07X8MW1G1, B07QQZD49D, B07T5XJW9...  \n",
       "4       [B0B2JY9THB, B08YK8FQJ8, B08SHZHRQ7, B09C89S7W...  \n",
       "...                                                   ...  \n",
       "316967  [B07GKP2LCF, B07GKYSHB4, B00V6FIFZ0, B006DDGCI...  \n",
       "316968  [B00M35Y326, B08B395NHL, B091DWY6CH, B085C7TCT...  \n",
       "316969  [B08VDHH6QF, B08VDSL596, B08VD5DC5L, B07QK2SPP...  \n",
       "316970  [B089CZWB4C, B08W2JJZBM, B08T1ZJYHV, B09WCQYGX...  \n",
       "316971  [B0861HW2QC, B08GY1QYXP, B07N8QY3YH, B08CN3G4N...  \n",
       "\n",
       "[316972 rows x 4 columns]"
      ]
     },
     "execution_count": 59,
     "metadata": {},
     "output_type": "execute_result"
    }
   ],
   "source": [
    "# Concatenate the results\n",
    "df_test = pd.concat([df_test_de, df_test_jp, df_test_uk])\n",
    "df_test"
   ]
  },
  {
   "cell_type": "code",
   "execution_count": 60,
   "metadata": {},
   "outputs": [
    {
     "data": {
      "text/plain": [
       "count    316972.0\n",
       "mean        100.0\n",
       "std           0.0\n",
       "min         100.0\n",
       "25%         100.0\n",
       "50%         100.0\n",
       "75%         100.0\n",
       "max         100.0\n",
       "Name: next_item_prediction, dtype: float64"
      ]
     },
     "execution_count": 60,
     "metadata": {},
     "output_type": "execute_result"
    }
   ],
   "source": [
    "df_test['next_item_prediction'].apply(len).describe()"
   ]
  },
  {
   "cell_type": "code",
   "execution_count": 61,
   "metadata": {},
   "outputs": [],
   "source": [
    "df_test[['locale', 'next_item_prediction']].to_parquet('../../outputs/submission_task1_locale_new_updated.parquet', engine='pyarrow', compression='gzip')"
   ]
  },
  {
   "cell_type": "code",
   "execution_count": null,
   "metadata": {},
   "outputs": [],
   "source": []
  }
 ],
 "metadata": {
  "kernelspec": {
   "display_name": "kddcup",
   "language": "python",
   "name": "python3"
  },
  "language_info": {
   "codemirror_mode": {
    "name": "ipython",
    "version": 3
   },
   "file_extension": ".py",
   "mimetype": "text/x-python",
   "name": "python",
   "nbconvert_exporter": "python",
   "pygments_lexer": "ipython3",
   "version": "3.10.10"
  },
  "orig_nbformat": 4
 },
 "nbformat": 4,
 "nbformat_minor": 2
}
