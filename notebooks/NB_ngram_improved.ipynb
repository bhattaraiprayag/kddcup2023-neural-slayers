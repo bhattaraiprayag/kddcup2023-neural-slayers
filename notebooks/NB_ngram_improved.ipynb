{
 "cells": [
  {
   "cell_type": "code",
   "execution_count": 1,
   "metadata": {},
   "outputs": [
    {
     "name": "stderr",
     "output_type": "stream",
     "text": [
      "[nltk_data] Downloading package punkt to\n",
      "[nltk_data]     /home/ma/ma_ma/ma_pbhattar/nltk_data...\n",
      "[nltk_data]   Package punkt is already up-to-date!\n"
     ]
    },
    {
     "data": {
      "text/plain": [
       "True"
      ]
     },
     "execution_count": 1,
     "metadata": {},
     "output_type": "execute_result"
    }
   ],
   "source": [
    "import pandas as pd\n",
    "import nltk\n",
    "from collections import Counter\n",
    "from nltk.tokenize import word_tokenize\n",
    "from nltk.util import ngrams\n",
    "nltk.download('punkt')"
   ]
  },
  {
   "cell_type": "code",
   "execution_count": 2,
   "metadata": {},
   "outputs": [],
   "source": [
    "sessions_test=pd.read_csv(\"../../data/test/sessions_test_task1_phase2.csv\")\n",
    "sessions_train=pd.read_csv(\"../../data/train/sessions_train.csv\")"
   ]
  },
  {
   "cell_type": "code",
   "execution_count": 3,
   "metadata": {},
   "outputs": [],
   "source": [
    "def convert_to_text_list(df):\n",
    "    texts = []\n",
    "    for index, row in df.iterrows():\n",
    "        text = str(row['prev_items'])[1:-1]\n",
    "        text = text.replace(\"'\", \"\")\n",
    "        text = text.replace(\"\\n\", \"\")\n",
    "        text = text + ' ' + str(row['next_item'])\n",
    "        texts.append(text)\n",
    "    return texts\n",
    "\n",
    "def convert_to_token_list(df):\n",
    "    tokens = []\n",
    "    for index, row in df.iterrows():\n",
    "        text = str(row['prev_items'])[1:-1]\n",
    "        text = text.replace(\"'\", \"\")\n",
    "        text = text.replace(\"\\n\", \"\")\n",
    "        tokens.extend(text.split())\n",
    "        tokens.append(str(row['next_item']))\n",
    "    return tokens"
   ]
  },
  {
   "cell_type": "code",
   "execution_count": 4,
   "metadata": {},
   "outputs": [],
   "source": [
    "from collections import defaultdict\n",
    "\n",
    "def create_ngram_model(texts, n):\n",
    "    ngrams = defaultdict(lambda: defaultdict(int))\n",
    "\n",
    "    # Tokenize the texts\n",
    "    tokens = [word_tokenize(text) for text in texts]\n",
    "\n",
    "    # Create n-grams\n",
    "    for token_list in tokens:\n",
    "        for i in range(len(token_list) - n):\n",
    "            ngram = tuple(token_list[i:i + n])\n",
    "            next_token = token_list[i + n]\n",
    "            ngrams[ngram][next_token] += 1\n",
    "\n",
    "    # Sort the next tokens by frequency\n",
    "    for ngram, next_tokens in ngrams.items():\n",
    "        ngrams[ngram] = dict(sorted(next_tokens.items(), key=lambda x: x[1], reverse=True)[:100])\n",
    "\n",
    "    return ngrams"
   ]
  },
  {
   "cell_type": "code",
   "execution_count": 5,
   "metadata": {},
   "outputs": [],
   "source": [
    "# Seperate the sessions data by locale\n",
    "sessions_train_DE = sessions_train[sessions_train['locale'] == 'DE']\n",
    "sessions_train_JP = sessions_train[sessions_train['locale'] == 'JP']\n",
    "sessions_train_UK = sessions_train[sessions_train['locale'] == 'UK']"
   ]
  },
  {
   "cell_type": "code",
   "execution_count": 6,
   "metadata": {},
   "outputs": [],
   "source": [
    "# Generate n-gram models for each locale\n",
    "onegram_DE = create_ngram_model(convert_to_text_list(sessions_train_DE), 1)"
   ]
  },
  {
   "cell_type": "code",
   "execution_count": 7,
   "metadata": {},
   "outputs": [],
   "source": [
    "onegram_JP = create_ngram_model(convert_to_text_list(sessions_train_JP), 1)"
   ]
  },
  {
   "cell_type": "code",
   "execution_count": 8,
   "metadata": {},
   "outputs": [],
   "source": [
    "onegram_UK = create_ngram_model(convert_to_text_list(sessions_train_UK), 1)"
   ]
  },
  {
   "cell_type": "code",
   "execution_count": 9,
   "metadata": {},
   "outputs": [],
   "source": [
    "# Combine ngram models and all_grams into dictionaries for easy access\n",
    "ngram_models = {'DE': onegram_DE, 'JP': onegram_JP, 'UK': onegram_UK}"
   ]
  },
  {
   "cell_type": "code",
   "execution_count": 10,
   "metadata": {},
   "outputs": [],
   "source": [
    "all_grams_dict = {'DE': Counter(convert_to_token_list(sessions_train_DE)),\n",
    "                  'JP': Counter(convert_to_token_list(sessions_train_JP)),\n",
    "                  'UK': Counter(convert_to_token_list(sessions_train_UK))}"
   ]
  },
  {
   "cell_type": "code",
   "execution_count": 11,
   "metadata": {},
   "outputs": [],
   "source": [
    "# Find the top 100 items for each locale\n",
    "for locale in all_grams_dict:\n",
    "    all_grams_dict[locale] = all_grams_dict[locale].most_common(100)"
   ]
  },
  {
   "cell_type": "code",
   "execution_count": 12,
   "metadata": {},
   "outputs": [],
   "source": [
    "# Make predictions based on locale\n",
    "for index, row in sessions_test.iterrows():\n",
    "    predictions = []\n",
    "    text = str(row['prev_items'])[1:-1]\n",
    "    text = text.replace(\"'\", \"\")\n",
    "    text = text.replace(\"\\n\", \"\")\n",
    "    tokens = word_tokenize(text)\n",
    "    gram = [tokens[-1]]\n",
    "    gram = tuple(gram)\n",
    "    locale = row['locale']\n",
    "    i = 1\n",
    "    for k, v in ngram_models[locale][gram].items():\n",
    "        predictions.append(k)\n",
    "        if i == 100:\n",
    "            break\n",
    "        i += 1\n",
    "    if i < 100:\n",
    "        for k, v in all_grams_dict[locale]:\n",
    "            predictions.append(k)\n",
    "            if i == 100:\n",
    "                break\n",
    "            i += 1\n",
    "    # Filter out items that are already in prev_items\n",
    "    predictions = [x for x in predictions if x not in tokens]\n",
    "    # If there are less than 100 predictions, fill the rest with the most popular items\n",
    "    if len(predictions) < 100:\n",
    "        for k, v in all_grams_dict[locale]:\n",
    "            # Append k only if it is not already in predictions\n",
    "            if k not in predictions:\n",
    "                predictions.append(k)\n",
    "            if len(predictions) == 100:\n",
    "                break\n",
    "    sessions_test.at[index, 'next_item_prediction'] = str(predictions)"
   ]
  },
  {
   "cell_type": "code",
   "execution_count": 13,
   "metadata": {},
   "outputs": [
    {
     "data": {
      "text/html": [
       "<div>\n",
       "<style scoped>\n",
       "    .dataframe tbody tr th:only-of-type {\n",
       "        vertical-align: middle;\n",
       "    }\n",
       "\n",
       "    .dataframe tbody tr th {\n",
       "        vertical-align: top;\n",
       "    }\n",
       "\n",
       "    .dataframe thead th {\n",
       "        text-align: right;\n",
       "    }\n",
       "</style>\n",
       "<table border=\"1\" class=\"dataframe\">\n",
       "  <thead>\n",
       "    <tr style=\"text-align: right;\">\n",
       "      <th></th>\n",
       "      <th>prev_items</th>\n",
       "      <th>locale</th>\n",
       "      <th>next_item_prediction</th>\n",
       "    </tr>\n",
       "  </thead>\n",
       "  <tbody>\n",
       "    <tr>\n",
       "      <th>0</th>\n",
       "      <td>['B087VLP2RT' 'B09BRQSHYH' 'B099KW4ZLV']</td>\n",
       "      <td>DE</td>\n",
       "      <td>['B07SDFLVKD', 'B091CK241X', 'B0BGC82WVW', 'B0...</td>\n",
       "    </tr>\n",
       "    <tr>\n",
       "      <th>1</th>\n",
       "      <td>['B08XW4W667' 'B096VMCJYF' 'B096VMCJYF']</td>\n",
       "      <td>DE</td>\n",
       "      <td>['B004P4QFJM', 'B084CB7GX9', 'B09YD8XV6M', 'B0...</td>\n",
       "    </tr>\n",
       "  </tbody>\n",
       "</table>\n",
       "</div>"
      ],
      "text/plain": [
       "                                 prev_items locale   \n",
       "0  ['B087VLP2RT' 'B09BRQSHYH' 'B099KW4ZLV']     DE  \\\n",
       "1  ['B08XW4W667' 'B096VMCJYF' 'B096VMCJYF']     DE   \n",
       "\n",
       "                                next_item_prediction  \n",
       "0  ['B07SDFLVKD', 'B091CK241X', 'B0BGC82WVW', 'B0...  \n",
       "1  ['B004P4QFJM', 'B084CB7GX9', 'B09YD8XV6M', 'B0...  "
      ]
     },
     "execution_count": 13,
     "metadata": {},
     "output_type": "execute_result"
    }
   ],
   "source": [
    "sessions_test.head(2)"
   ]
  },
  {
   "cell_type": "code",
   "execution_count": 14,
   "metadata": {},
   "outputs": [
    {
     "data": {
      "text/plain": [
       "\"['B07SDFLVKD', 'B091CK241X', 'B0BGC82WVW', 'B0B9GJLV2D', 'B093X59B31', 'B07SR4R8K1', 'B08SRMPBRF', 'B09QBR7XJD', 'B08JW624NN', 'B00ZQW91DE', 'B087VMGP5G', 'B0977MTK65', 'B0BDML9477', 'B08GWS298V', 'B0B1MPZWJG', 'B09NQGVSPD', 'B0922JX27X', 'B08H93ZRK9', 'B0BFJGXWDV', 'B07R4PN3MV', 'B0B2Q4ZRDW', 'B00GWUSE1O', 'B09C7BRP5Y', 'B09MTWFCLY', 'B07CZ4DLCP', 'B00GWUSGU8', 'B0B2Q2VVGP', 'B095Z1QGWJ', 'B07CNRN566', 'B0033Q5KU8', 'B0B61MQD58', 'B08LSNJQ1N', 'B086NF5PMC', 'B07XKBLL8F', 'B08LSL593L', 'B0B8D4CWZ4', 'B07QPV9Z7X', 'B08LJRYBP2', 'B09G9B4SH9', 'B09C6RTP2S', 'B0935DN1BN', 'B0B8NNHR5N', 'B08L5TKXW3', 'B07YSRXJD3', 'B0935JRJ59', 'B088FSHMQ3', 'B07JG9TFSB', 'B0971DDW5C', 'B00FZWPO5Y', 'B00LN803LE', 'B099DP3617', 'B09MTVJX9K', 'B008TLGIA8', 'B09XMTWDVT', 'B07YPSZ566', 'B07CRT1KJ7', 'B08C5DR9GR', 'B0B4MZZ8MB', 'B06Y12PQJ8', 'B07GDVG5FQ', 'B0B4BJG9L4', 'B09QWH3T52', 'B0B34QYWDK', 'B07GH48Q2G', 'B00NTCH52W', 'B0936KTSPV', 'B09TTZZWW6', 'B09DL9HP8W', 'B074X4W71C', 'B004605SE8', 'B00K69H85U', 'B00006JCUB', 'B081FWVSG8', 'B07DRKMWYX', 'B09QLW7HS2', 'B0BDJ47W5B', 'B00CWNMV4G', 'B0892LX5VS', 'B07F16BD5N', 'B07JM21QHM', 'B09QFPZ9B7', 'B0B466H784', 'B0B7HZ2GWX', 'B09MGHBDZC', 'B09Y5HH44X', 'B00LN803K0', 'B07G7Q5N6G', 'B0BDJ9PJXQ', 'B081ZG7BCK', 'B09HGGV5R5', 'B09FFNVRXJ', 'B0BDJ37NF5', 'B07MCFD1MK', 'B08LPRHF7L', 'B0B6Q7PNBK', 'B0057DVWYI', 'B07G8YWL5F', 'B0BDML9477', 'B08GWS298V', 'B0B1MPZWJG']\""
      ]
     },
     "execution_count": 14,
     "metadata": {},
     "output_type": "execute_result"
    }
   ],
   "source": [
    "sessions_test.iloc[0].next_item_prediction"
   ]
  },
  {
   "cell_type": "code",
   "execution_count": 15,
   "metadata": {},
   "outputs": [],
   "source": [
    "for index, row in sessions_test.iterrows():\n",
    "    sessions_test.at[index, 'next_item_prediction']=str(row['next_item_prediction'])[1:-1]"
   ]
  },
  {
   "cell_type": "code",
   "execution_count": 16,
   "metadata": {},
   "outputs": [
    {
     "data": {
      "text/plain": [
       "\"'B07SDFLVKD', 'B091CK241X', 'B0BGC82WVW', 'B0B9GJLV2D', 'B093X59B31', 'B07SR4R8K1', 'B08SRMPBRF', 'B09QBR7XJD', 'B08JW624NN', 'B00ZQW91DE', 'B087VMGP5G', 'B0977MTK65', 'B0BDML9477', 'B08GWS298V', 'B0B1MPZWJG', 'B09NQGVSPD', 'B0922JX27X', 'B08H93ZRK9', 'B0BFJGXWDV', 'B07R4PN3MV', 'B0B2Q4ZRDW', 'B00GWUSE1O', 'B09C7BRP5Y', 'B09MTWFCLY', 'B07CZ4DLCP', 'B00GWUSGU8', 'B0B2Q2VVGP', 'B095Z1QGWJ', 'B07CNRN566', 'B0033Q5KU8', 'B0B61MQD58', 'B08LSNJQ1N', 'B086NF5PMC', 'B07XKBLL8F', 'B08LSL593L', 'B0B8D4CWZ4', 'B07QPV9Z7X', 'B08LJRYBP2', 'B09G9B4SH9', 'B09C6RTP2S', 'B0935DN1BN', 'B0B8NNHR5N', 'B08L5TKXW3', 'B07YSRXJD3', 'B0935JRJ59', 'B088FSHMQ3', 'B07JG9TFSB', 'B0971DDW5C', 'B00FZWPO5Y', 'B00LN803LE', 'B099DP3617', 'B09MTVJX9K', 'B008TLGIA8', 'B09XMTWDVT', 'B07YPSZ566', 'B07CRT1KJ7', 'B08C5DR9GR', 'B0B4MZZ8MB', 'B06Y12PQJ8', 'B07GDVG5FQ', 'B0B4BJG9L4', 'B09QWH3T52', 'B0B34QYWDK', 'B07GH48Q2G', 'B00NTCH52W', 'B0936KTSPV', 'B09TTZZWW6', 'B09DL9HP8W', 'B074X4W71C', 'B004605SE8', 'B00K69H85U', 'B00006JCUB', 'B081FWVSG8', 'B07DRKMWYX', 'B09QLW7HS2', 'B0BDJ47W5B', 'B00CWNMV4G', 'B0892LX5VS', 'B07F16BD5N', 'B07JM21QHM', 'B09QFPZ9B7', 'B0B466H784', 'B0B7HZ2GWX', 'B09MGHBDZC', 'B09Y5HH44X', 'B00LN803K0', 'B07G7Q5N6G', 'B0BDJ9PJXQ', 'B081ZG7BCK', 'B09HGGV5R5', 'B09FFNVRXJ', 'B0BDJ37NF5', 'B07MCFD1MK', 'B08LPRHF7L', 'B0B6Q7PNBK', 'B0057DVWYI', 'B07G8YWL5F', 'B0BDML9477', 'B08GWS298V', 'B0B1MPZWJG'\""
      ]
     },
     "execution_count": 16,
     "metadata": {},
     "output_type": "execute_result"
    }
   ],
   "source": [
    "sessions_test.iloc[0].next_item_prediction"
   ]
  },
  {
   "cell_type": "code",
   "execution_count": 17,
   "metadata": {},
   "outputs": [],
   "source": [
    "for index, row in sessions_test.iterrows():\n",
    "    sessions_test.at[index, 'next_item_prediction']=row['next_item_prediction'].replace(\"'\",\"\")"
   ]
  },
  {
   "cell_type": "code",
   "execution_count": 18,
   "metadata": {},
   "outputs": [
    {
     "data": {
      "text/plain": [
       "'B07SDFLVKD, B091CK241X, B0BGC82WVW, B0B9GJLV2D, B093X59B31, B07SR4R8K1, B08SRMPBRF, B09QBR7XJD, B08JW624NN, B00ZQW91DE, B087VMGP5G, B0977MTK65, B0BDML9477, B08GWS298V, B0B1MPZWJG, B09NQGVSPD, B0922JX27X, B08H93ZRK9, B0BFJGXWDV, B07R4PN3MV, B0B2Q4ZRDW, B00GWUSE1O, B09C7BRP5Y, B09MTWFCLY, B07CZ4DLCP, B00GWUSGU8, B0B2Q2VVGP, B095Z1QGWJ, B07CNRN566, B0033Q5KU8, B0B61MQD58, B08LSNJQ1N, B086NF5PMC, B07XKBLL8F, B08LSL593L, B0B8D4CWZ4, B07QPV9Z7X, B08LJRYBP2, B09G9B4SH9, B09C6RTP2S, B0935DN1BN, B0B8NNHR5N, B08L5TKXW3, B07YSRXJD3, B0935JRJ59, B088FSHMQ3, B07JG9TFSB, B0971DDW5C, B00FZWPO5Y, B00LN803LE, B099DP3617, B09MTVJX9K, B008TLGIA8, B09XMTWDVT, B07YPSZ566, B07CRT1KJ7, B08C5DR9GR, B0B4MZZ8MB, B06Y12PQJ8, B07GDVG5FQ, B0B4BJG9L4, B09QWH3T52, B0B34QYWDK, B07GH48Q2G, B00NTCH52W, B0936KTSPV, B09TTZZWW6, B09DL9HP8W, B074X4W71C, B004605SE8, B00K69H85U, B00006JCUB, B081FWVSG8, B07DRKMWYX, B09QLW7HS2, B0BDJ47W5B, B00CWNMV4G, B0892LX5VS, B07F16BD5N, B07JM21QHM, B09QFPZ9B7, B0B466H784, B0B7HZ2GWX, B09MGHBDZC, B09Y5HH44X, B00LN803K0, B07G7Q5N6G, B0BDJ9PJXQ, B081ZG7BCK, B09HGGV5R5, B09FFNVRXJ, B0BDJ37NF5, B07MCFD1MK, B08LPRHF7L, B0B6Q7PNBK, B0057DVWYI, B07G8YWL5F, B0BDML9477, B08GWS298V, B0B1MPZWJG'"
      ]
     },
     "execution_count": 18,
     "metadata": {},
     "output_type": "execute_result"
    }
   ],
   "source": [
    "sessions_test.iloc[0].next_item_prediction"
   ]
  },
  {
   "cell_type": "code",
   "execution_count": 19,
   "metadata": {},
   "outputs": [
    {
     "data": {
      "text/html": [
       "<div>\n",
       "<style scoped>\n",
       "    .dataframe tbody tr th:only-of-type {\n",
       "        vertical-align: middle;\n",
       "    }\n",
       "\n",
       "    .dataframe tbody tr th {\n",
       "        vertical-align: top;\n",
       "    }\n",
       "\n",
       "    .dataframe thead th {\n",
       "        text-align: right;\n",
       "    }\n",
       "</style>\n",
       "<table border=\"1\" class=\"dataframe\">\n",
       "  <thead>\n",
       "    <tr style=\"text-align: right;\">\n",
       "      <th></th>\n",
       "      <th>prev_items</th>\n",
       "      <th>locale</th>\n",
       "      <th>next_item_prediction</th>\n",
       "    </tr>\n",
       "  </thead>\n",
       "  <tbody>\n",
       "    <tr>\n",
       "      <th>0</th>\n",
       "      <td>['B087VLP2RT' 'B09BRQSHYH' 'B099KW4ZLV']</td>\n",
       "      <td>DE</td>\n",
       "      <td>B07SDFLVKD, B091CK241X, B0BGC82WVW, B0B9GJLV2D...</td>\n",
       "    </tr>\n",
       "    <tr>\n",
       "      <th>1</th>\n",
       "      <td>['B08XW4W667' 'B096VMCJYF' 'B096VMCJYF']</td>\n",
       "      <td>DE</td>\n",
       "      <td>B004P4QFJM, B084CB7GX9, B09YD8XV6M, B004P4OF1C...</td>\n",
       "    </tr>\n",
       "  </tbody>\n",
       "</table>\n",
       "</div>"
      ],
      "text/plain": [
       "                                 prev_items locale   \n",
       "0  ['B087VLP2RT' 'B09BRQSHYH' 'B099KW4ZLV']     DE  \\\n",
       "1  ['B08XW4W667' 'B096VMCJYF' 'B096VMCJYF']     DE   \n",
       "\n",
       "                                next_item_prediction  \n",
       "0  B07SDFLVKD, B091CK241X, B0BGC82WVW, B0B9GJLV2D...  \n",
       "1  B004P4QFJM, B084CB7GX9, B09YD8XV6M, B004P4OF1C...  "
      ]
     },
     "execution_count": 19,
     "metadata": {},
     "output_type": "execute_result"
    }
   ],
   "source": [
    "sessions_test.head(2)"
   ]
  },
  {
   "cell_type": "code",
   "execution_count": 20,
   "metadata": {},
   "outputs": [],
   "source": [
    "sessions_test.drop('prev_items', axis=1, inplace=True)"
   ]
  },
  {
   "cell_type": "code",
   "execution_count": 21,
   "metadata": {},
   "outputs": [],
   "source": [
    "# Reorganize next_item_prediction column to match submission format\n",
    "for index, row in sessions_test.iterrows():\n",
    "    sessions_test.at[index, 'next_item_prediction']=row['next_item_prediction'].split(', ')"
   ]
  },
  {
   "cell_type": "code",
   "execution_count": 22,
   "metadata": {},
   "outputs": [
    {
     "data": {
      "text/html": [
       "<div>\n",
       "<style scoped>\n",
       "    .dataframe tbody tr th:only-of-type {\n",
       "        vertical-align: middle;\n",
       "    }\n",
       "\n",
       "    .dataframe tbody tr th {\n",
       "        vertical-align: top;\n",
       "    }\n",
       "\n",
       "    .dataframe thead th {\n",
       "        text-align: right;\n",
       "    }\n",
       "</style>\n",
       "<table border=\"1\" class=\"dataframe\">\n",
       "  <thead>\n",
       "    <tr style=\"text-align: right;\">\n",
       "      <th></th>\n",
       "      <th>locale</th>\n",
       "      <th>next_item_prediction</th>\n",
       "    </tr>\n",
       "  </thead>\n",
       "  <tbody>\n",
       "    <tr>\n",
       "      <th>0</th>\n",
       "      <td>DE</td>\n",
       "      <td>[B07SDFLVKD, B091CK241X, B0BGC82WVW, B0B9GJLV2...</td>\n",
       "    </tr>\n",
       "    <tr>\n",
       "      <th>1</th>\n",
       "      <td>DE</td>\n",
       "      <td>[B004P4QFJM, B084CB7GX9, B09YD8XV6M, B004P4OF1...</td>\n",
       "    </tr>\n",
       "    <tr>\n",
       "      <th>2</th>\n",
       "      <td>DE</td>\n",
       "      <td>[B09Z4PZQBF, B01GS8K962, B08LLF9M11, B08KHJN9H...</td>\n",
       "    </tr>\n",
       "    <tr>\n",
       "      <th>3</th>\n",
       "      <td>DE</td>\n",
       "      <td>[B09GKJ9RRJ, B07X8MW1G1, B07QQZD49D, B0BDML947...</td>\n",
       "    </tr>\n",
       "    <tr>\n",
       "      <th>4</th>\n",
       "      <td>DE</td>\n",
       "      <td>[B0B2JY9THB, B08YK8FQJ8, B09C89S7WG, B08R9PTZ5...</td>\n",
       "    </tr>\n",
       "    <tr>\n",
       "      <th>...</th>\n",
       "      <td>...</td>\n",
       "      <td>...</td>\n",
       "    </tr>\n",
       "    <tr>\n",
       "      <th>316967</th>\n",
       "      <td>UK</td>\n",
       "      <td>[B07GKP2LCF, B07GKYSHB4, B006DDGCI2, B016RAAUE...</td>\n",
       "    </tr>\n",
       "    <tr>\n",
       "      <th>316968</th>\n",
       "      <td>UK</td>\n",
       "      <td>[B00M35Y326, B08B395NHL, B08CN3G4N9, B07N8QY3Y...</td>\n",
       "    </tr>\n",
       "    <tr>\n",
       "      <th>316969</th>\n",
       "      <td>UK</td>\n",
       "      <td>[B08VDHH6QF, B08VD5DC5L, B08VDSL596, B089TQLLC...</td>\n",
       "    </tr>\n",
       "    <tr>\n",
       "      <th>316970</th>\n",
       "      <td>UK</td>\n",
       "      <td>[B089CZWB4C, B08W2JJZBM, B08T1ZJYHV, B09WCQYGX...</td>\n",
       "    </tr>\n",
       "    <tr>\n",
       "      <th>316971</th>\n",
       "      <td>UK</td>\n",
       "      <td>[B0861HW2QC, B08GY1QYXP, B08CN3G4N9, B07N8QY3Y...</td>\n",
       "    </tr>\n",
       "  </tbody>\n",
       "</table>\n",
       "<p>316972 rows × 2 columns</p>\n",
       "</div>"
      ],
      "text/plain": [
       "       locale                               next_item_prediction\n",
       "0          DE  [B07SDFLVKD, B091CK241X, B0BGC82WVW, B0B9GJLV2...\n",
       "1          DE  [B004P4QFJM, B084CB7GX9, B09YD8XV6M, B004P4OF1...\n",
       "2          DE  [B09Z4PZQBF, B01GS8K962, B08LLF9M11, B08KHJN9H...\n",
       "3          DE  [B09GKJ9RRJ, B07X8MW1G1, B07QQZD49D, B0BDML947...\n",
       "4          DE  [B0B2JY9THB, B08YK8FQJ8, B09C89S7WG, B08R9PTZ5...\n",
       "...       ...                                                ...\n",
       "316967     UK  [B07GKP2LCF, B07GKYSHB4, B006DDGCI2, B016RAAUE...\n",
       "316968     UK  [B00M35Y326, B08B395NHL, B08CN3G4N9, B07N8QY3Y...\n",
       "316969     UK  [B08VDHH6QF, B08VD5DC5L, B08VDSL596, B089TQLLC...\n",
       "316970     UK  [B089CZWB4C, B08W2JJZBM, B08T1ZJYHV, B09WCQYGX...\n",
       "316971     UK  [B0861HW2QC, B08GY1QYXP, B08CN3G4N9, B07N8QY3Y...\n",
       "\n",
       "[316972 rows x 2 columns]"
      ]
     },
     "execution_count": 22,
     "metadata": {},
     "output_type": "execute_result"
    }
   ],
   "source": [
    "sessions_test"
   ]
  },
  {
   "cell_type": "code",
   "execution_count": 23,
   "metadata": {},
   "outputs": [
    {
     "data": {
      "text/plain": [
       "['B07SDFLVKD',\n",
       " 'B091CK241X',\n",
       " 'B0BGC82WVW',\n",
       " 'B0B9GJLV2D',\n",
       " 'B093X59B31',\n",
       " 'B07SR4R8K1',\n",
       " 'B08SRMPBRF',\n",
       " 'B09QBR7XJD',\n",
       " 'B08JW624NN',\n",
       " 'B00ZQW91DE',\n",
       " 'B087VMGP5G',\n",
       " 'B0977MTK65',\n",
       " 'B0BDML9477',\n",
       " 'B08GWS298V',\n",
       " 'B0B1MPZWJG',\n",
       " 'B09NQGVSPD',\n",
       " 'B0922JX27X',\n",
       " 'B08H93ZRK9',\n",
       " 'B0BFJGXWDV',\n",
       " 'B07R4PN3MV',\n",
       " 'B0B2Q4ZRDW',\n",
       " 'B00GWUSE1O',\n",
       " 'B09C7BRP5Y',\n",
       " 'B09MTWFCLY',\n",
       " 'B07CZ4DLCP',\n",
       " 'B00GWUSGU8',\n",
       " 'B0B2Q2VVGP',\n",
       " 'B095Z1QGWJ',\n",
       " 'B07CNRN566',\n",
       " 'B0033Q5KU8',\n",
       " 'B0B61MQD58',\n",
       " 'B08LSNJQ1N',\n",
       " 'B086NF5PMC',\n",
       " 'B07XKBLL8F',\n",
       " 'B08LSL593L',\n",
       " 'B0B8D4CWZ4',\n",
       " 'B07QPV9Z7X',\n",
       " 'B08LJRYBP2',\n",
       " 'B09G9B4SH9',\n",
       " 'B09C6RTP2S',\n",
       " 'B0935DN1BN',\n",
       " 'B0B8NNHR5N',\n",
       " 'B08L5TKXW3',\n",
       " 'B07YSRXJD3',\n",
       " 'B0935JRJ59',\n",
       " 'B088FSHMQ3',\n",
       " 'B07JG9TFSB',\n",
       " 'B0971DDW5C',\n",
       " 'B00FZWPO5Y',\n",
       " 'B00LN803LE',\n",
       " 'B099DP3617',\n",
       " 'B09MTVJX9K',\n",
       " 'B008TLGIA8',\n",
       " 'B09XMTWDVT',\n",
       " 'B07YPSZ566',\n",
       " 'B07CRT1KJ7',\n",
       " 'B08C5DR9GR',\n",
       " 'B0B4MZZ8MB',\n",
       " 'B06Y12PQJ8',\n",
       " 'B07GDVG5FQ',\n",
       " 'B0B4BJG9L4',\n",
       " 'B09QWH3T52',\n",
       " 'B0B34QYWDK',\n",
       " 'B07GH48Q2G',\n",
       " 'B00NTCH52W',\n",
       " 'B0936KTSPV',\n",
       " 'B09TTZZWW6',\n",
       " 'B09DL9HP8W',\n",
       " 'B074X4W71C',\n",
       " 'B004605SE8',\n",
       " 'B00K69H85U',\n",
       " 'B00006JCUB',\n",
       " 'B081FWVSG8',\n",
       " 'B07DRKMWYX',\n",
       " 'B09QLW7HS2',\n",
       " 'B0BDJ47W5B',\n",
       " 'B00CWNMV4G',\n",
       " 'B0892LX5VS',\n",
       " 'B07F16BD5N',\n",
       " 'B07JM21QHM',\n",
       " 'B09QFPZ9B7',\n",
       " 'B0B466H784',\n",
       " 'B0B7HZ2GWX',\n",
       " 'B09MGHBDZC',\n",
       " 'B09Y5HH44X',\n",
       " 'B00LN803K0',\n",
       " 'B07G7Q5N6G',\n",
       " 'B0BDJ9PJXQ',\n",
       " 'B081ZG7BCK',\n",
       " 'B09HGGV5R5',\n",
       " 'B09FFNVRXJ',\n",
       " 'B0BDJ37NF5',\n",
       " 'B07MCFD1MK',\n",
       " 'B08LPRHF7L',\n",
       " 'B0B6Q7PNBK',\n",
       " 'B0057DVWYI',\n",
       " 'B07G8YWL5F',\n",
       " 'B0BDML9477',\n",
       " 'B08GWS298V',\n",
       " 'B0B1MPZWJG']"
      ]
     },
     "execution_count": 23,
     "metadata": {},
     "output_type": "execute_result"
    }
   ],
   "source": [
    "sessions_test.iloc[0].next_item_prediction"
   ]
  },
  {
   "cell_type": "code",
   "execution_count": 24,
   "metadata": {},
   "outputs": [
    {
     "data": {
      "text/html": [
       "<div>\n",
       "<style scoped>\n",
       "    .dataframe tbody tr th:only-of-type {\n",
       "        vertical-align: middle;\n",
       "    }\n",
       "\n",
       "    .dataframe tbody tr th {\n",
       "        vertical-align: top;\n",
       "    }\n",
       "\n",
       "    .dataframe thead th {\n",
       "        text-align: right;\n",
       "    }\n",
       "</style>\n",
       "<table border=\"1\" class=\"dataframe\">\n",
       "  <thead>\n",
       "    <tr style=\"text-align: right;\">\n",
       "      <th></th>\n",
       "      <th>locale</th>\n",
       "      <th>next_item_prediction</th>\n",
       "    </tr>\n",
       "  </thead>\n",
       "  <tbody>\n",
       "    <tr>\n",
       "      <th>0</th>\n",
       "      <td>DE</td>\n",
       "      <td>[B07SDFLVKD, B091CK241X, B0BGC82WVW, B0B9GJLV2...</td>\n",
       "    </tr>\n",
       "    <tr>\n",
       "      <th>1</th>\n",
       "      <td>DE</td>\n",
       "      <td>[B004P4QFJM, B084CB7GX9, B09YD8XV6M, B004P4OF1...</td>\n",
       "    </tr>\n",
       "  </tbody>\n",
       "</table>\n",
       "</div>"
      ],
      "text/plain": [
       "  locale                               next_item_prediction\n",
       "0     DE  [B07SDFLVKD, B091CK241X, B0BGC82WVW, B0B9GJLV2...\n",
       "1     DE  [B004P4QFJM, B084CB7GX9, B09YD8XV6M, B004P4OF1..."
      ]
     },
     "execution_count": 24,
     "metadata": {},
     "output_type": "execute_result"
    }
   ],
   "source": [
    "sessions_test.head(2)"
   ]
  },
  {
   "cell_type": "code",
   "execution_count": 25,
   "metadata": {},
   "outputs": [],
   "source": [
    "output_path = '../../outputs/' + 'task1_predictions_phase2_ngram_improved.parquet'\n",
    "\n",
    "import pyarrow.parquet as pq\n",
    "import pyarrow as pa\n",
    "\n",
    "# Save predictions to parquet\n",
    "table = pa.Table.from_pandas(sessions_test)\n",
    "pq.write_table(table, output_path, compression='gzip')"
   ]
  },
  {
   "cell_type": "code",
   "execution_count": null,
   "metadata": {},
   "outputs": [],
   "source": []
  }
 ],
 "metadata": {
  "kernelspec": {
   "display_name": "kddcup",
   "language": "python",
   "name": "python3"
  },
  "language_info": {
   "codemirror_mode": {
    "name": "ipython",
    "version": 3
   },
   "file_extension": ".py",
   "mimetype": "text/x-python",
   "name": "python",
   "nbconvert_exporter": "python",
   "pygments_lexer": "ipython3",
   "version": "3.10.10"
  },
  "orig_nbformat": 4
 },
 "nbformat": 4,
 "nbformat_minor": 2
}
